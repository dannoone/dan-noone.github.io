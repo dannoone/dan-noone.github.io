{
  "cells": [
    {
      "cell_type": "raw",
      "metadata": {},
      "source": [
        "---\n",
        "title: \"Web Scraping using Beautiful Soup\"\n",
        "subtitle: 'From a tutorial on YouTube'\n",
        "author: 'Daniel Noone'\n",
        "date: '02-09-2024'\n",
        "categories: [Python, Web Scraping, Beautiful Soup]\n",
        "image: soup.jfif\n",
        "---"
      ],
      "id": "0fedc2a7"
    },
    {
      "cell_type": "markdown",
      "metadata": {},
      "source": [
        "# First you have to import the required modules"
      ],
      "id": "f42dc413"
    },
    {
      "cell_type": "code",
      "metadata": {},
      "source": [
        "from bs4 import BeautifulSoup\n",
        "import requests"
      ],
      "id": "2f4d3b6b",
      "execution_count": null,
      "outputs": []
    },
    {
      "cell_type": "markdown",
      "metadata": {},
      "source": [
        "# Have to set the URL to the website and \n"
      ],
      "id": "30d641e3"
    }
  ],
  "metadata": {
    "kernelspec": {
      "display_name": "Python 3",
      "language": "python",
      "name": "python3"
    }
  },
  "nbformat": 4,
  "nbformat_minor": 5
}